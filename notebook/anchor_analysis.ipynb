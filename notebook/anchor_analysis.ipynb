{
 "cells": [
  {
   "cell_type": "code",
   "execution_count": 1,
   "metadata": {},
   "outputs": [
    {
     "name": "stderr",
     "output_type": "stream",
     "text": [
      "C:\\Users\\aaron\\AppData\\Local\\Temp\\ipykernel_14408\\2950854424.py:6: MatplotlibDeprecationWarning: The get_cmap function was deprecated in Matplotlib 3.7 and will be removed two minor releases later. Use ``matplotlib.colormaps[name]`` or ``matplotlib.colormaps.get_cmap(obj)`` instead.\n",
      "  viridis = cm.get_cmap('Set3', 12)\n"
     ]
    }
   ],
   "source": [
    "import pandas as pd\n",
    "import numpy as np\n",
    "import matplotlib.pyplot as plt\n",
    "\n",
    "from matplotlib import cm\n",
    "viridis = cm.get_cmap('Set3', 12)\n"
   ]
  },
  {
   "cell_type": "markdown",
   "metadata": {},
   "source": [
    "## GM12878 CTCF"
   ]
  },
  {
   "cell_type": "code",
   "execution_count": 2,
   "metadata": {},
   "outputs": [
    {
     "data": {
      "text/html": [
       "<div>\n",
       "<style scoped>\n",
       "    .dataframe tbody tr th:only-of-type {\n",
       "        vertical-align: middle;\n",
       "    }\n",
       "\n",
       "    .dataframe tbody tr th {\n",
       "        vertical-align: top;\n",
       "    }\n",
       "\n",
       "    .dataframe thead th {\n",
       "        text-align: right;\n",
       "    }\n",
       "</style>\n",
       "<table border=\"1\" class=\"dataframe\">\n",
       "  <thead>\n",
       "    <tr style=\"text-align: right;\">\n",
       "      <th></th>\n",
       "      <th>chr</th>\n",
       "      <th>start</th>\n",
       "      <th>end</th>\n",
       "      <th>range</th>\n",
       "    </tr>\n",
       "  </thead>\n",
       "  <tbody>\n",
       "    <tr>\n",
       "      <th>0</th>\n",
       "      <td>chr10</td>\n",
       "      <td>100068271</td>\n",
       "      <td>100070234</td>\n",
       "      <td>1963</td>\n",
       "    </tr>\n",
       "    <tr>\n",
       "      <th>1</th>\n",
       "      <td>chr10</td>\n",
       "      <td>100091191</td>\n",
       "      <td>100092014</td>\n",
       "      <td>823</td>\n",
       "    </tr>\n",
       "    <tr>\n",
       "      <th>2</th>\n",
       "      <td>chr10</td>\n",
       "      <td>100153429</td>\n",
       "      <td>100154957</td>\n",
       "      <td>1528</td>\n",
       "    </tr>\n",
       "    <tr>\n",
       "      <th>3</th>\n",
       "      <td>chr10</td>\n",
       "      <td>100184724</td>\n",
       "      <td>100186460</td>\n",
       "      <td>1736</td>\n",
       "    </tr>\n",
       "    <tr>\n",
       "      <th>4</th>\n",
       "      <td>chr10</td>\n",
       "      <td>100225396</td>\n",
       "      <td>100228857</td>\n",
       "      <td>3461</td>\n",
       "    </tr>\n",
       "    <tr>\n",
       "      <th>...</th>\n",
       "      <td>...</td>\n",
       "      <td>...</td>\n",
       "      <td>...</td>\n",
       "      <td>...</td>\n",
       "    </tr>\n",
       "    <tr>\n",
       "      <th>31481</th>\n",
       "      <td>chrX</td>\n",
       "      <td>99702915</td>\n",
       "      <td>99703050</td>\n",
       "      <td>135</td>\n",
       "    </tr>\n",
       "    <tr>\n",
       "      <th>31482</th>\n",
       "      <td>chrX</td>\n",
       "      <td>99765558</td>\n",
       "      <td>99769755</td>\n",
       "      <td>4197</td>\n",
       "    </tr>\n",
       "    <tr>\n",
       "      <th>31483</th>\n",
       "      <td>chrX</td>\n",
       "      <td>99869002</td>\n",
       "      <td>99871426</td>\n",
       "      <td>2424</td>\n",
       "    </tr>\n",
       "    <tr>\n",
       "      <th>31484</th>\n",
       "      <td>chrX</td>\n",
       "      <td>99891286</td>\n",
       "      <td>99893140</td>\n",
       "      <td>1854</td>\n",
       "    </tr>\n",
       "    <tr>\n",
       "      <th>31485</th>\n",
       "      <td>chrX</td>\n",
       "      <td>99934453</td>\n",
       "      <td>99945167</td>\n",
       "      <td>10714</td>\n",
       "    </tr>\n",
       "  </tbody>\n",
       "</table>\n",
       "<p>31486 rows × 4 columns</p>\n",
       "</div>"
      ],
      "text/plain": [
       "         chr      start        end  range\n",
       "0      chr10  100068271  100070234   1963\n",
       "1      chr10  100091191  100092014    823\n",
       "2      chr10  100153429  100154957   1528\n",
       "3      chr10  100184724  100186460   1736\n",
       "4      chr10  100225396  100228857   3461\n",
       "...      ...        ...        ...    ...\n",
       "31481   chrX   99702915   99703050    135\n",
       "31482   chrX   99765558   99769755   4197\n",
       "31483   chrX   99869002   99871426   2424\n",
       "31484   chrX   99891286   99893140   1854\n",
       "31485   chrX   99934453   99945167  10714\n",
       "\n",
       "[31486 rows x 4 columns]"
      ]
     },
     "execution_count": 2,
     "metadata": {},
     "output_type": "execute_result"
    }
   ],
   "source": [
    "df = pd.read_csv('../data/proc/gm12878_ctcf/gm12878_ctcf_merged_anchors.both_dnase.bed', \n",
    "                 sep=\"\\t\", header=None)\n",
    "\n",
    "df.columns = ['chr', 'start', 'end']\n",
    "df['range'] = df['end'] - df['start']\n",
    "df"
   ]
  },
  {
   "cell_type": "code",
   "execution_count": 3,
   "metadata": {},
   "outputs": [
    {
     "data": {
      "text/plain": [
       "count    31486.000000\n",
       "mean      2655.829512\n",
       "std       2168.789207\n",
       "min         83.000000\n",
       "25%       1138.250000\n",
       "50%       2032.000000\n",
       "75%       3565.000000\n",
       "max      57251.000000\n",
       "Name: range, dtype: float64"
      ]
     },
     "execution_count": 3,
     "metadata": {},
     "output_type": "execute_result"
    }
   ],
   "source": [
    "df['range'].describe()"
   ]
  },
  {
   "cell_type": "code",
   "execution_count": 15,
   "metadata": {},
   "outputs": [
    {
     "data": {
      "text/plain": [
       "<Figure size 640x480 with 0 Axes>"
      ]
     },
     "metadata": {},
     "output_type": "display_data"
    },
    {
     "data": {
      "image/png": "[encoded data removed]",
      "text/plain": [
       "<Figure size 700x600 with 2 Axes>"
      ]
     },
     "metadata": {},
     "output_type": "display_data"
    }
   ],
   "source": [
    "plt.clf()\n",
    "\n",
    "f, (ax1, ax2) = plt.subplots(2, 1, gridspec_kw={'height_ratios': [5, 1]}, figsize=(7, 6))\n",
    "\n",
    "ax1.hist(np.log10(df['range']), bins = 100, color=viridis.colors[0])\n",
    "# ax1.set_title('histogram of interaction region size')\n",
    "ax1.set_ylabel(\"Count\", fontsize=15)\n",
    "ax1.set_xlabel(\"length of base pairs(log10)\", fontsize=15)\n",
    "ax1.set_xticks(range(1, 5)) # 顯示區域\n",
    "ax1.axvline(x = np.log10(3000), color = viridis.colors[3], label = '3000bp')\n",
    "ax1.legend()\n",
    "ax1.tick_params(labelsize=16)\n",
    "\n",
    "# 客製化 x 軸標籤\n",
    "# label_ls = ['\\u00b1', '\\u00b2', '\\u00b3', '\\u00b4', '\\u00b5']\n",
    "# ax1.set_xticklabels([\"10{}\".format(label_ls[i]) for i in range(1, 5)])\n",
    "\n",
    "ax2.boxplot(np.log10(df['range']), vert=False)\n",
    "ax2.set_xticks(range(1, 5)) # 顯示區域\n",
    "ax2.get_xaxis().set_visible(False)\n",
    "ax2.get_yaxis().set_visible(False)\n",
    "\n",
    "f.tight_layout()\n",
    "plt.show()"
   ]
  },
  {
   "cell_type": "markdown",
   "metadata": {},
   "source": [
    "## hela CTCF"
   ]
  },
  {
   "cell_type": "code",
   "execution_count": 16,
   "metadata": {},
   "outputs": [
    {
     "data": {
      "text/html": [
       "<div>\n",
       "<style scoped>\n",
       "    .dataframe tbody tr th:only-of-type {\n",
       "        vertical-align: middle;\n",
       "    }\n",
       "\n",
       "    .dataframe tbody tr th {\n",
       "        vertical-align: top;\n",
       "    }\n",
       "\n",
       "    .dataframe thead th {\n",
       "        text-align: right;\n",
       "    }\n",
       "</style>\n",
       "<table border=\"1\" class=\"dataframe\">\n",
       "  <thead>\n",
       "    <tr style=\"text-align: right;\">\n",
       "      <th></th>\n",
       "      <th>chr</th>\n",
       "      <th>start</th>\n",
       "      <th>end</th>\n",
       "      <th>range</th>\n",
       "    </tr>\n",
       "  </thead>\n",
       "  <tbody>\n",
       "    <tr>\n",
       "      <th>0</th>\n",
       "      <td>chr1</td>\n",
       "      <td>10001619</td>\n",
       "      <td>10003541</td>\n",
       "      <td>1922</td>\n",
       "    </tr>\n",
       "    <tr>\n",
       "      <th>1</th>\n",
       "      <td>chr1</td>\n",
       "      <td>10010446</td>\n",
       "      <td>10011013</td>\n",
       "      <td>567</td>\n",
       "    </tr>\n",
       "    <tr>\n",
       "      <th>2</th>\n",
       "      <td>chr1</td>\n",
       "      <td>100111003</td>\n",
       "      <td>100111339</td>\n",
       "      <td>336</td>\n",
       "    </tr>\n",
       "    <tr>\n",
       "      <th>3</th>\n",
       "      <td>chr1</td>\n",
       "      <td>100127984</td>\n",
       "      <td>100128683</td>\n",
       "      <td>699</td>\n",
       "    </tr>\n",
       "    <tr>\n",
       "      <th>4</th>\n",
       "      <td>chr1</td>\n",
       "      <td>100137864</td>\n",
       "      <td>100138432</td>\n",
       "      <td>568</td>\n",
       "    </tr>\n",
       "    <tr>\n",
       "      <th>...</th>\n",
       "      <td>...</td>\n",
       "      <td>...</td>\n",
       "      <td>...</td>\n",
       "      <td>...</td>\n",
       "    </tr>\n",
       "    <tr>\n",
       "      <th>24386</th>\n",
       "      <td>chrX</td>\n",
       "      <td>99928791</td>\n",
       "      <td>99929518</td>\n",
       "      <td>727</td>\n",
       "    </tr>\n",
       "    <tr>\n",
       "      <th>24387</th>\n",
       "      <td>chrX</td>\n",
       "      <td>99938666</td>\n",
       "      <td>99944991</td>\n",
       "      <td>6325</td>\n",
       "    </tr>\n",
       "    <tr>\n",
       "      <th>24388</th>\n",
       "      <td>chrX</td>\n",
       "      <td>99951181</td>\n",
       "      <td>99951722</td>\n",
       "      <td>541</td>\n",
       "    </tr>\n",
       "    <tr>\n",
       "      <th>24389</th>\n",
       "      <td>chrX</td>\n",
       "      <td>99976414</td>\n",
       "      <td>99976661</td>\n",
       "      <td>247</td>\n",
       "    </tr>\n",
       "    <tr>\n",
       "      <th>24390</th>\n",
       "      <td>chrX</td>\n",
       "      <td>99986417</td>\n",
       "      <td>99987928</td>\n",
       "      <td>1511</td>\n",
       "    </tr>\n",
       "  </tbody>\n",
       "</table>\n",
       "<p>24391 rows × 4 columns</p>\n",
       "</div>"
      ],
      "text/plain": [
       "        chr      start        end  range\n",
       "0      chr1   10001619   10003541   1922\n",
       "1      chr1   10010446   10011013    567\n",
       "2      chr1  100111003  100111339    336\n",
       "3      chr1  100127984  100128683    699\n",
       "4      chr1  100137864  100138432    568\n",
       "...     ...        ...        ...    ...\n",
       "24386  chrX   99928791   99929518    727\n",
       "24387  chrX   99938666   99944991   6325\n",
       "24388  chrX   99951181   99951722    541\n",
       "24389  chrX   99976414   99976661    247\n",
       "24390  chrX   99986417   99987928   1511\n",
       "\n",
       "[24391 rows x 4 columns]"
      ]
     },
     "execution_count": 16,
     "metadata": {},
     "output_type": "execute_result"
    }
   ],
   "source": [
    "df = pd.read_csv('../data/proc/helas3_ctcf/helas3_ctcf_merged_anchors.both_dnase.bed', \n",
    "                 sep=\"\\t\", header=None)\n",
    "\n",
    "df.columns = ['chr', 'start', 'end']\n",
    "df['range'] = df['end'] - df['start']\n",
    "df"
   ]
  },
  {
   "cell_type": "code",
   "execution_count": 17,
   "metadata": {},
   "outputs": [
    {
     "data": {
      "text/plain": [
       "count    24391.000000\n",
       "mean      1131.593375\n",
       "std        854.813276\n",
       "min         30.000000\n",
       "25%        575.000000\n",
       "50%        926.000000\n",
       "75%       1437.000000\n",
       "max      21421.000000\n",
       "Name: range, dtype: float64"
      ]
     },
     "execution_count": 17,
     "metadata": {},
     "output_type": "execute_result"
    }
   ],
   "source": [
    "df['range'].describe()"
   ]
  },
  {
   "cell_type": "code",
   "execution_count": 19,
   "metadata": {},
   "outputs": [
    {
     "data": {
      "text/plain": [
       "<Figure size 640x480 with 0 Axes>"
      ]
     },
     "metadata": {},
     "output_type": "display_data"
    },
    {
     "data": {
      "image/png": "[encoded data removed]",
      "text/plain": [
       "<Figure size 700x600 with 2 Axes>"
      ]
     },
     "metadata": {},
     "output_type": "display_data"
    }
   ],
   "source": [
    "plt.clf()\n",
    "\n",
    "f, (ax1, ax2) = plt.subplots(2, 1, gridspec_kw={'height_ratios': [5, 1]}, figsize=(7, 6))\n",
    "\n",
    "ax1.hist(np.log10(df['range']), bins = 100, color=viridis.colors[0])\n",
    "# ax1.set_title('histogram of interaction region size')\n",
    "ax1.set_ylabel(\"Count\", fontsize=15)\n",
    "ax1.set_xlabel(\"length of base pairs(log10)\", fontsize=15)\n",
    "ax1.set_xticks(range(1, 5)) # 顯示區域\n",
    "ax1.axvline(x = np.log10(3000), color = viridis.colors[3], label = '3000bp')\n",
    "ax1.legend()\n",
    "ax1.tick_params(labelsize=16)\n",
    "\n",
    "# 客製化 x 軸標籤\n",
    "# label_ls = ['\\u00b1', '\\u00b2', '\\u00b3', '\\u00b4', '\\u00b5']\n",
    "# ax1.set_xticklabels([\"10{}\".format(label_ls[i]) for i in range(1, 5)])\n",
    "\n",
    "ax2.boxplot(np.log10(df['range']), vert=False)\n",
    "ax2.set_xticks(range(1, 5)) # 顯示區域\n",
    "ax2.get_xaxis().set_visible(False)\n",
    "ax2.get_yaxis().set_visible(False)\n",
    "\n",
    "f.tight_layout()\n",
    "plt.show()"
   ]
  },
  {
   "cell_type": "code",
   "execution_count": null,
   "metadata": {},
   "outputs": [],
   "source": []
  }
 ],
 "metadata": {
  "kernelspec": {
   "display_name": "chinn-data",
   "language": "python",
   "name": "python3"
  },
  "language_info": {
   "codemirror_mode": {
    "name": "ipython",
    "version": 3
   },
   "file_extension": ".py",
   "mimetype": "text/x-python",
   "name": "python",
   "nbconvert_exporter": "python",
   "pygments_lexer": "ipython3",
   "version": "3.10.13"
  },
  "orig_nbformat": 4
 },
 "nbformat": 4,
 "nbformat_minor": 2
}
