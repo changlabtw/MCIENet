{
 "cells": [
  {
   "cell_type": "code",
   "execution_count": 1,
   "id": "25dc6315",
   "metadata": {
    "_cell_guid": "b1076dfc-b9ad-4769-8c92-a6c4dae69d19",
    "_uuid": "8f2839f25d086af736a60e9eeb907d3b93b6e0e5",
    "execution": {
     "iopub.execute_input": "2024-05-07T03:16:52.075999Z",
     "iopub.status.busy": "2024-05-07T03:16:52.075603Z",
     "iopub.status.idle": "2024-05-07T03:16:53.073809Z",
     "shell.execute_reply": "2024-05-07T03:16:53.072657Z"
    },
    "papermill": {
     "duration": 1.00733,
     "end_time": "2024-05-07T03:16:53.076522",
     "exception": false,
     "start_time": "2024-05-07T03:16:52.069192",
     "status": "completed"
    },
    "tags": []
   },
   "outputs": [
    {
     "name": "stdout",
     "output_type": "stream",
     "text": [
      "Tue May  7 03:16:52 2024       \r\n",
      "+---------------------------------------------------------------------------------------+\r\n",
      "| NVIDIA-SMI 535.129.03             Driver Version: 535.129.03   CUDA Version: 12.2     |\r\n",
      "|-----------------------------------------+----------------------+----------------------+\r\n",
      "| GPU  Name                 Persistence-M | Bus-Id        Disp.A | Volatile Uncorr. ECC |\r\n",
      "| Fan  Temp   Perf          Pwr:Usage/Cap |         Memory-Usage | GPU-Util  Compute M. |\r\n",
      "|                                         |                      |               MIG M. |\r\n",
      "|=========================================+======================+======================|\r\n",
      "|   0  Tesla P100-PCIE-16GB           Off | 00000000:00:04.0 Off |                    0 |\r\n",
      "| N/A   39C    P0              26W / 250W |      0MiB / 16384MiB |      0%      Default |\r\n",
      "|                                         |                      |                  N/A |\r\n",
      "+-----------------------------------------+----------------------+----------------------+\r\n",
      "                                                                                         \r\n",
      "+---------------------------------------------------------------------------------------+\r\n",
      "| Processes:                                                                            |\r\n",
      "|  GPU   GI   CI        PID   Type   Process name                            GPU Memory |\r\n",
      "|        ID   ID                                                             Usage      |\r\n",
      "|=======================================================================================|\r\n",
      "|  No running processes found                                                           |\r\n",
      "+---------------------------------------------------------------------------------------+\r\n"
     ]
    }
   ],
   "source": [
    "!nvidia-smi"
   ]
  },
  {
   "cell_type": "markdown",
   "id": "4b864934",
   "metadata": {
    "papermill": {
     "duration": 0.00437,
     "end_time": "2024-05-07T03:16:53.085890",
     "exception": false,
     "start_time": "2024-05-07T03:16:53.081520",
     "status": "completed"
    },
    "tags": []
   },
   "source": [
    "# environment"
   ]
  },
  {
   "cell_type": "code",
   "execution_count": 2,
   "id": "ccb7a59f",
   "metadata": {
    "execution": {
     "iopub.execute_input": "2024-05-07T03:16:53.097247Z",
     "iopub.status.busy": "2024-05-07T03:16:53.096404Z",
     "iopub.status.idle": "2024-05-07T03:17:10.738903Z",
     "shell.execute_reply": "2024-05-07T03:17:10.737708Z"
    },
    "papermill": {
     "duration": 17.650997,
     "end_time": "2024-05-07T03:17:10.741428",
     "exception": false,
     "start_time": "2024-05-07T03:16:53.090431",
     "status": "completed"
    },
    "tags": []
   },
   "outputs": [],
   "source": [
    "!pip install gdown --quiet"
   ]
  },
  {
   "cell_type": "markdown",
   "id": "ceda9268",
   "metadata": {
    "papermill": {
     "duration": 0.004322,
     "end_time": "2024-05-07T03:17:10.750473",
     "exception": false,
     "start_time": "2024-05-07T03:17:10.746151",
     "status": "completed"
    },
    "tags": []
   },
   "source": [
    "### code"
   ]
  },
  {
   "cell_type": "code",
   "execution_count": 3,
   "id": "c7a844e8",
   "metadata": {
    "execution": {
     "iopub.execute_input": "2024-05-07T03:17:10.761013Z",
     "iopub.status.busy": "2024-05-07T03:17:10.760685Z",
     "iopub.status.idle": "2024-05-07T03:17:12.620588Z",
     "shell.execute_reply": "2024-05-07T03:17:12.619727Z"
    },
    "papermill": {
     "duration": 1.867912,
     "end_time": "2024-05-07T03:17:12.622846",
     "exception": false,
     "start_time": "2024-05-07T03:17:10.754934",
     "status": "completed"
    },
    "tags": []
   },
   "outputs": [
    {
     "name": "stderr",
     "output_type": "stream",
     "text": [
      "Downloading...\n"
     ]
    },
    {
     "name": "stderr",
     "output_type": "stream",
     "text": [
      "From: https://drive.google.com/uc?id=1eSGdjEsfusyZkXwsENAeZlCQE7J7dDjB&confirm=t\n"
     ]
    },
    {
     "name": "stderr",
     "output_type": "stream",
     "text": [
      "To: /kaggle/working/benchmark.zip\n"
     ]
    },
    {
     "name": "stderr",
     "output_type": "stream",
     "text": [
      "\r\n",
      "  0%|          | 0.00/36.9M [00:00<?, ?B/s]\r\n",
      " 13%|█▎        | 4.72M/36.9M [00:00<00:00, 44.9MB/s]\r\n",
      " 47%|████▋     | 17.3M/36.9M [00:00<00:00, 78.5MB/s]\r\n",
      " 84%|████████▍ | 30.9M/36.9M [00:00<00:00, 102MB/s] \r\n",
      "100%|██████████| 36.9M/36.9M [00:00<00:00, 101MB/s]\n"
     ]
    }
   ],
   "source": [
    "%%bash\n",
    "File_id=\"1eSGdjEsfusyZkXwsENAeZlCQE7J7dDjB\"\n",
    "File_name=\"benchmark\"\n",
    "\n",
    "gdown \"https://drive.google.com/uc?id=${File_id}&confirm=t\"\n",
    "unzip -q \"${File_name}.zip\" -d \"${File_name}\"\n",
    "# rm -f \"${File_name}.zip\""
   ]
  },
  {
   "cell_type": "code",
   "execution_count": 4,
   "id": "89ec5fbe",
   "metadata": {
    "execution": {
     "iopub.execute_input": "2024-05-07T03:17:12.633982Z",
     "iopub.status.busy": "2024-05-07T03:17:12.633693Z",
     "iopub.status.idle": "2024-05-07T03:17:12.639559Z",
     "shell.execute_reply": "2024-05-07T03:17:12.638660Z"
    },
    "papermill": {
     "duration": 0.013714,
     "end_time": "2024-05-07T03:17:12.641636",
     "exception": false,
     "start_time": "2024-05-07T03:17:12.627922",
     "status": "completed"
    },
    "tags": []
   },
   "outputs": [
    {
     "name": "stdout",
     "output_type": "stream",
     "text": [
      "/kaggle/working/benchmark\n"
     ]
    }
   ],
   "source": [
    "%cd benchmark/"
   ]
  },
  {
   "cell_type": "markdown",
   "id": "601e5cab",
   "metadata": {
    "papermill": {
     "duration": 0.004641,
     "end_time": "2024-05-07T03:17:12.651701",
     "exception": false,
     "start_time": "2024-05-07T03:17:12.647060",
     "status": "completed"
    },
    "tags": []
   },
   "source": [
    "### package"
   ]
  },
  {
   "cell_type": "code",
   "execution_count": 5,
   "id": "6b8e4c31",
   "metadata": {
    "execution": {
     "iopub.execute_input": "2024-05-07T03:17:12.662733Z",
     "iopub.status.busy": "2024-05-07T03:17:12.662420Z",
     "iopub.status.idle": "2024-05-07T03:17:26.938960Z",
     "shell.execute_reply": "2024-05-07T03:17:26.937904Z"
    },
    "papermill": {
     "duration": 14.284745,
     "end_time": "2024-05-07T03:17:26.941324",
     "exception": false,
     "start_time": "2024-05-07T03:17:12.656579",
     "status": "completed"
    },
    "tags": []
   },
   "outputs": [],
   "source": [
    "!pip install -r requirements.txt --quiet # --q 讓他安靜"
   ]
  },
  {
   "cell_type": "markdown",
   "id": "0819f9a9",
   "metadata": {
    "papermill": {
     "duration": 0.005111,
     "end_time": "2024-05-07T03:17:26.951668",
     "exception": false,
     "start_time": "2024-05-07T03:17:26.946557",
     "status": "completed"
    },
    "tags": []
   },
   "source": [
    "### data"
   ]
  },
  {
   "cell_type": "code",
   "execution_count": null,
   "id": "8b292cef",
   "metadata": {
    "execution": {
     "iopub.execute_input": "2024-05-07T03:17:26.963559Z",
     "iopub.status.busy": "2024-05-07T03:17:26.963190Z",
     "iopub.status.idle": "2024-05-07T03:17:39.193876Z",
     "shell.execute_reply": "2024-05-07T03:17:39.192784Z"
    },
    "papermill": {
     "duration": 12.239757,
     "end_time": "2024-05-07T03:17:39.196422",
     "exception": false,
     "start_time": "2024-05-07T03:17:26.956665",
     "status": "completed"
    },
    "tags": []
   },
   "outputs": [],
   "source": [
    "%%bash\n",
    "File_id=\"1eUXALCjWwOE9i0872w-vf3og-lszuO_s\"\n",
    "gdown \"https://drive.google.com/uc?id=${File_id}&confirm=t\""
   ]
  },
  {
   "cell_type": "code",
   "execution_count": 7,
   "id": "2e1b5a41",
   "metadata": {
    "execution": {
     "iopub.execute_input": "2024-05-07T03:17:39.218865Z",
     "iopub.status.busy": "2024-05-07T03:17:39.218511Z",
     "iopub.status.idle": "2024-05-07T03:17:58.198072Z",
     "shell.execute_reply": "2024-05-07T03:17:58.197176Z"
    },
    "papermill": {
     "duration": 18.989018,
     "end_time": "2024-05-07T03:17:58.200467",
     "exception": false,
     "start_time": "2024-05-07T03:17:39.211449",
     "status": "completed"
    },
    "tags": []
   },
   "outputs": [],
   "source": [
    "%%bash\n",
    "folder=\"data/train/gm12878_polr2a\"\n",
    "\n",
    "mkdir -p $folder\n",
    "unzip -q \"gm12878_polr2a.zip\" -d $folder"
   ]
  },
  {
   "cell_type": "code",
   "execution_count": 8,
   "id": "5a1b91ba",
   "metadata": {
    "execution": {
     "iopub.execute_input": "2024-05-07T03:17:58.213534Z",
     "iopub.status.busy": "2024-05-07T03:17:58.213220Z",
     "iopub.status.idle": "2024-05-07T03:17:59.167293Z",
     "shell.execute_reply": "2024-05-07T03:17:59.166105Z"
    },
    "papermill": {
     "duration": 0.96328,
     "end_time": "2024-05-07T03:17:59.169760",
     "exception": false,
     "start_time": "2024-05-07T03:17:58.206480",
     "status": "completed"
    },
    "tags": []
   },
   "outputs": [
    {
     "name": "stdout",
     "output_type": "stream",
     "text": [
      "code  data\t      gm12878_ctcf.zip\tscripts\r\n",
      "conf  data_helper.py  requirements.txt\ttrain.py\r\n"
     ]
    }
   ],
   "source": [
    "!ls"
   ]
  },
  {
   "cell_type": "code",
   "execution_count": 9,
   "id": "8851330f",
   "metadata": {
    "execution": {
     "iopub.execute_input": "2024-05-07T03:17:59.183815Z",
     "iopub.status.busy": "2024-05-07T03:17:59.183441Z",
     "iopub.status.idle": "2024-05-07T03:17:59.188318Z",
     "shell.execute_reply": "2024-05-07T03:17:59.187333Z"
    },
    "papermill": {
     "duration": 0.014228,
     "end_time": "2024-05-07T03:17:59.190358",
     "exception": false,
     "start_time": "2024-05-07T03:17:59.176130",
     "status": "completed"
    },
    "tags": []
   },
   "outputs": [],
   "source": [
    "# !rm -r output"
   ]
  },
  {
   "cell_type": "markdown",
   "id": "a1e1eadd",
   "metadata": {
    "papermill": {
     "duration": 0.005387,
     "end_time": "2024-05-07T03:17:59.201887",
     "exception": false,
     "start_time": "2024-05-07T03:17:59.196500",
     "status": "completed"
    },
    "tags": []
   },
   "source": [
    "### run"
   ]
  },
  {
   "cell_type": "code",
   "execution_count": null,
   "id": "33c35a1d",
   "metadata": {
    "execution": {
     "iopub.execute_input": "2024-05-07T03:17:59.214487Z",
     "iopub.status.busy": "2024-05-07T03:17:59.214168Z"
    },
    "papermill": {
     "duration": null,
     "end_time": null,
     "exception": false,
     "start_time": "2024-05-07T03:17:59.207443",
     "status": "running"
    },
    "tags": []
   },
   "outputs": [],
   "source": [
    "%%bash\n",
    "#!/bin/bash\n",
    "name=\"2024.05.10_cnn_hyper-test-no-bn\"\n",
    "\n",
    "# Define configuration variables\n",
    "config=\"conf/base-CNN.yaml\"\n",
    "input_folder=\"data/train/gm12878_polr2a\"\n",
    "out_folder_base=\"output/${name}\"\n",
    "input_format=\"onehot\"\n",
    "\n",
    "learning_rates=(0.001)\n",
    "hidden_sizes=(300)\n",
    "extractor_hidden_size=(10 50 100 200)\n",
    "hidden_layer=(2)\n",
    "\n",
    "bp_range=(1000 2000 3000)\n",
    "\n",
    "total_tasks=$((\n",
    "    ${#learning_rates[@]} * ${#hidden_sizes[@]} *\n",
    "    ${#hidden_layer[@]} * ${#bp_range[@]} * ${#extractor_hidden_size[@]}\n",
    "))\n",
    "completed_tasks=1\n",
    "\n",
    "# Define hyperparameters (using loops)\n",
    "for lr in ${learning_rates[@]}; do\n",
    "    for hs in ${hidden_sizes[@]}; do\n",
    "        for hl in ${hidden_layer[@]}; do\n",
    "            for bp in ${bp_range[@]}; do\n",
    "                for ehs in ${extractor_hidden_size[@]}; do\n",
    "                  # Construct output folder name with experiment details\n",
    "                  config=\"conf/base-CNN_${bp}bp.yaml\"\n",
    "                  input_data=\"${input_folder}/${bp}bp.50ms.${input_format}/data.h5\"\n",
    "                  out_folder=\"${out_folder_base}/Lr${lr}_CHs${ehs}_Hs${hs}_Hl${hl}_Bp${bp}\"\n",
    "                    \n",
    "                  echo \">>>>>>>>>>>>>>>>> Task <<<<<<<<<<<<<<<<<\"\n",
    "                  echo \"[$((${completed_tasks}))/${total_tasks}]\"\n",
    "                  echo \"Config: ${config}\"\n",
    "                  echo \"Input data: ${input_data}\"\n",
    "                  echo \"Out folder: ${out_folder}\"\n",
    "                  echo \"<<<<<<<<<<<<<<<<< Task >>>>>>>>>>>>>>>>>\"\n",
    "\n",
    "                  # Train with the specified hyperparameters\n",
    "                  python train.py \\\n",
    "                    --config \"${config}\" \\\n",
    "                    --input \"${input_data}\" \\\n",
    "                    --output_folder \"${out_folder}\" \\\n",
    "                    --device gpu \\\n",
    "                    --eval_freq 1 \\\n",
    "                    --pin_memory_train True \\\n",
    "                    --train.learning_rate $lr \\\n",
    "                    --model.extractor_hidden_size $ehs \\\n",
    "                    --model.extractor_output_dim $hs \\\n",
    "                    --model.classifier_input_dim $hs \\\n",
    "                    --model.classifier_hidden_size $hs \\\n",
    "                    --model.classifier_hidden_layer $hl \\\n",
    "                    --model.extractor_bn False\n",
    "\n",
    "                  # 檢查執行結果\n",
    "                  if [ $? -ne 0 ]; then\n",
    "                    echo \"Error: Training failed with batch size $batch_size\"\n",
    "                    exit 1\n",
    "                  fi\n",
    "\n",
    "                  ((completed_tasks++))\n",
    "                done\n",
    "            done\n",
    "        done\n",
    "    done\n",
    "done\n",
    "\n",
    "# Sort experiment results\n",
    "# python code/helper_scripts/sort_exp_result.py --folder \"$out_folder_base\""
   ]
  },
  {
   "cell_type": "code",
   "execution_count": null,
   "id": "ee41a641",
   "metadata": {
    "papermill": {
     "duration": null,
     "end_time": null,
     "exception": null,
     "start_time": null,
     "status": "pending"
    },
    "tags": []
   },
   "outputs": [],
   "source": [
    "%%bash\n",
    "name=\"2024.05.10_cnn_hyper-test-no-bn\"\n",
    "folder=\"output\"\n",
    "\n",
    "zip -r \"${folder}/${name}.zip\" \"${folder}/${name}\""
   ]
  },
  {
   "cell_type": "code",
   "execution_count": null,
   "id": "5557d739",
   "metadata": {
    "papermill": {
     "duration": null,
     "end_time": null,
     "exception": null,
     "start_time": null,
     "status": "pending"
    },
    "tags": []
   },
   "outputs": [],
   "source": [
    "# 一定要在這路徑底下才行\n",
    "import os\n",
    "os.chdir('/kaggle/working')\n",
    "\n",
    "from IPython.display import FileLink\n",
    "FileLink('benchmark/output/2024.05.10_cnn_hyper-test-no-bn.zip')"
   ]
  }
 ],
 "metadata": {
  "kaggle": {
   "accelerator": "gpu",
   "dataSources": [],
   "dockerImageVersionId": 30699,
   "isGpuEnabled": true,
   "isInternetEnabled": true,
   "language": "python",
   "sourceType": "notebook"
  },
  "kernelspec": {
   "display_name": "Python 3",
   "language": "python",
   "name": "python3"
  },
  "language_info": {
   "codemirror_mode": {
    "name": "ipython",
    "version": 3
   },
   "file_extension": ".py",
   "mimetype": "text/x-python",
   "name": "python",
   "nbconvert_exporter": "python",
   "pygments_lexer": "ipython3",
   "version": "3.10.13"
  },
  "papermill": {
   "default_parameters": {},
   "duration": null,
   "end_time": null,
   "environment_variables": {},
   "exception": null,
   "input_path": "__notebook__.ipynb",
   "output_path": "__notebook__.ipynb",
   "parameters": {},
   "start_time": "2024-05-07T03:16:49.184714",
   "version": "2.5.0"
  }
 },
 "nbformat": 4,
 "nbformat_minor": 5
}
